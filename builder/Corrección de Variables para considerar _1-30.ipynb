{
 "cells": [
  {
   "cell_type": "code",
   "execution_count": 7,
   "metadata": {
    "collapsed": true
   },
   "outputs": [],
   "source": [
    "dict_num = {45: 'CV1A_12', 75: 'CV1A_3', 105: 'CV1A_45', 138: 'CV2B', 168: 'CV3', 199: 'CV4A', 229: 'CV4A_12', 259: 'CV4A_3', 289: 'CV4A_45', 320: 'CV5A', 365: 'CO1B', 395: 'CO1B_12', 425: 'CO1B_3', 455: 'CO1B_45', 486: 'CO3', 517: 'CO4A_SI', 547: 'CO4A_NO', 581: 'CO4B', 611: 'CO4C', 662: 'CO14B', 707: 'A2', 737: 'A2A', 810: 'ED3C', 848: 'ED4A_12', 878: 'ED4A_3', 908: 'ED4A_45', 939: 'ED4B', 970: 'ED4A_123', 1000: 'ED4A2_45', 1035: 'ED4F', 1065: 'ED4G', 1096: 'ED4I', 1135: 'ED5', 1172: 'ED5B', 1202: 'ED6B', 1233: 'ED8B', 1273: 'ED10', 1314: 'ED18', 1344: 'ED19', 1374: 'ED20', 1415: 'ED31', 1450: 'SA1A', 1507: 'SA2D_123', 1539: 'SA3B', 1571: 'SA3D_123', 1601: 'SA3D_45', 1635: 'SA4A_12', 1665: 'SA4A_3', 1695: 'SA4A_45', 1730: 'SA5', 1771: 'SA13', 1803: 'SA15', 1833: 'SA16', 1868: 'SA19B_123', 1898: 'SA19B_45', 1930: 'SP1A', 1961: 'SP1A2', 1992: 'SP1B_12', 2022: 'SP1B_3', 2052: 'SP1B_45', 2084: 'SP1D', 2114: 'SP1D_123', 2144: 'SP1D_45', 2174: 'SP1E_123', 2205: 'SP2A_12', 2235: 'SP2A_3', 2265: 'SP2A_45', 2297: 'SP2B_123', 2327: 'SP2B_45', 2357: 'SP2C_123', 2390: 'SP3A_12', 2420: 'SP3A_3', 2450: 'SP3A_45', 2481: 'SP3C_123', 2511: 'SP3B_123', 2541: 'SP3B_45', 2575: 'SP4B_12', 2605: 'SP4B_3', 2635: 'SP4B_45', 2666: 'SP4C_123', 2696: 'SP4C_45', 2726: 'SP4D_123', 2759: 'SP5B_12', 2789: 'SP5B_3', 2819: 'SP5B_45', 2852: 'SP6A_12', 2882: 'SP6A_3', 2912: 'SP6A_45', 2943: 'SP6C_123', 2973: 'SP6C_45', 3003: 'SP6D_123', 3036: 'SP7A_12', 3066: 'SP7A_3', 3096: 'SP7A_45', 3127: 'SP7B_123', 3157: 'SP7B_45', 3187: 'SP7C_123', 3223: 'SP8B_12', 3253: 'SP8B_3', 3283: 'SP8B_45', 3315: 'SP9B_12', 3345: 'SP9B_3', 3375: 'SP9B_45', 3412: 'VS0A_123', 3442: 'VS0A_12', 3472: 'VS0A_3', 3502: 'VS0A_45', 3547: 'VS1E', 3579: 'VS2A_12', 3609: 'VS2A_3', 3639: 'VS2A_45', 3670: 'VS2B_123', 3700: 'VS2B_45', 3732: 'VS3A_12', 3762: 'VS3A_3', 3792: 'VS3A_45', 3824: 'VS3C_123', 3854: 'VS3C_45', 3886: 'VS4A_12', 3916: 'VS4A_3', 3946: 'VS4A_45', 3977: 'VS4C_123', 4007: 'VS4C_45', 4038: 'VS5A_12', 4068: 'VS5A_3', 4098: 'VS5A_45', 4129: 'VS5C_123', 4159: 'VS5C_45', 4197: 'VS6A', 4228: 'VS7A_12', 4258: 'VS7A_3', 4288: 'VS7A_45', 4319: 'VS7C', 4371: 'VS7H', 4403: 'VS8A_123', 4433: 'VS8A_45', 4479: 'VS9', 4509: 'VS9A', 4546: 'VS10H', 4579: 'VS14', 4610: 'VS15A', 4641: 'VS16', 4674: 'VS17A_SI', 4704: 'VS17A_NO', 4739: 'VS17C_CAL_05', 4769: 'VS17D_CAL_05', 4808: 'VS19A', 4838: 'VS19A_12', 4868: 'VS19A_3', 4898: 'VS19A_45', 4945: 'VS25', 4975: 'PC1', 5006: 'PC2', 5036: 'PC2A', 5066: 'PC13B', 5096: 'PC13A', 5197: 'PC5A', 5227: 'PC5B', 5258: 'PC6A', 5288: 'PC7', 5319: 'PC7B', 5351: 'PC7E', 5388: 'PC28A', 5418: 'PC28B', 5461: 'PC15A', 5554: 'PC20C', 5584: 'PC20D', 5614: 'PC21', 5659: 'PC24', 5693: 'PC26', 5733: 'RC1', 5764: 'RC2', 5952: 'RC10', 5982: 'RC11', 6028: 'RC17', 6059: 'RC19', 6090: 'RC20_123', 6120: 'RC20_45', 6151: 'RC21_345', 6182: 'RC22_345', 6213: 'RC23_345', 6255: 'DE3', 6285: 'DE4', 6315: 'DE5', 6345: 'CR1', 6382: 'CR1D', 6412: 'CR1E', 6443: 'CR1F_12', 6473: 'CR1F_3', 6503: 'CR1F_45', 6616: 'CR2A_12', 6646: 'CR2A_3', 6676: 'CR2A_45', 6707: 'CR3', 6738: 'CR3B', 6769: 'CR4A_12', 6799: 'CR4A_3', 6829: 'CR4A_45', 6868: 'CR6', 6901: 'COM1', 6942: 'MV3A', 6975: 'MV3B_1', 7006: 'MV4_123', 7036: 'MV4_45', 7067: 'MV4A_12', 7097: 'MV4A_3', 7127: 'MV4A_45', 7158: 'MV4B_123', 7205: 'MV6E_123', 7235: 'MV6E_45', 7266: 'MV6G', 7345: 'MV14A_12', 7375: 'MV14A_3', 7405: 'MV14A_45', 7437: 'MV15A_PO', 7467: 'MV15A_NE', 7527: 'MV15B_PO', 7557: 'MV15B_NE', 7623: 'MV20', 7655: 'MV22', 7740: 'MV34', 7773: 'MV36', 7803: 'MV37', 7849: 'MV40_123', 7879: 'MV40_45', 7909: 'MV41', 7939: 'MV42', 7970: 'MV43_123', 8001: 'MV44_123', 8032: 'EP1A_12', 8062: 'EP1A_3', 8092: 'EP1A_45', 8130: 'EP3A', 8161: 'EP4A', 8192: 'EP5A_SI', 8222: 'EP5A_NO', 8252: 'MA4', 8306: 'MA3_123', 8336: 'MA3_45', 8417: 'MA13', 8458: 'MA17', 8546: 'MC1A', 8576: 'MC2A', 8606: 'MC3A', 8636: 'MC4A', 8666: 'MC5A', 8696: 'MC6A', 8726: 'MC7A', 8756: 'MC8A', 8789: 'MC21A_1', 8819: 'MC21A_2', 8849: 'MC21A_3', 8879: 'MC21A_4', 8909: 'MC21A_5', 8939: 'MC21A_6', 8969: 'MC21A_7', 8999: 'MC21A_8', 9029: 'MC21A_9', 9059: 'MC21A_10', 9089: 'MC21A_11', 9119: 'MC21A_12', 9149: 'MC21A_13', 9179: 'MC21A_14', 9209: 'MC21A_15', 9239: 'MC21A_16', 9269: 'MC21A_17', 9299: 'MC21A_18', 9329: 'MC21A_19', 9359: 'MC21A_20', 9401: 'MC22A', 9438: 'GP0B', 11099: 'GP5', 11134: 'PR1', 11167: 'PR2A', 11687: 'PR7A_12', 11717: 'PR7A_3', 11747: 'PR7A_45', 11778: 'PR7C_1', 11808: 'PR7C_2', 11845: 'PR13_12', 11875: 'PR13_3', 11905: 'PR13_45', 11936: 'PR14_123', 11967: 'PR15_123', 11998: 'PR16_123', 12032: 'GG3A_123', 12062: 'GG3A_45', 12095: 'GG5B', 12125: 'GG5B_12', 12155: 'GG5B_3', 12185: 'GG5B_45', 12229: 'GG10C', 12261: 'GG13', 12293: 'GG15', 12323: 'CC1A', 12357: 'CC3', 12387: 'CC4', 12417: 'CC4A', 12447: 'CC4B', 12477: 'CC4C', 12509: 'CC5A_12', 12539: 'CC5A_3', 12569: 'CC5A_45', 12660: 'CC9C', 12690: 'CC9A', 12720: 'CC10', 12751: 'CC10_CAR_08', 12784: 'CC12', 12819: 'CC15A', 12853: 'CC19_CAR_05', 12885: 'CC23', 12916: 'MG1', 12964: 'MG2', 13002: 'MG3', 13032: 'MG3A', 13063: 'MG5A'}"
   ]
  },
  {
   "cell_type": "code",
   "execution_count": 8,
   "metadata": {
    "collapsed": false
   },
   "outputs": [],
   "source": [
    "variable_names = []\n",
    "for key in dict_num:\n",
    "    variable_names.append(dict_num[key])"
   ]
  },
  {
   "cell_type": "code",
   "execution_count": 9,
   "metadata": {
    "collapsed": true
   },
   "outputs": [],
   "source": [
    "import pandas as pd"
   ]
  },
  {
   "cell_type": "code",
   "execution_count": 10,
   "metadata": {
    "collapsed": false,
    "scrolled": false
   },
   "outputs": [
    {
     "name": "stdout",
     "output_type": "stream",
     "text": [
      "                                                  Label            Nombre\n",
      "Tipo                                                                     \n",
      "N                                                    ID              CR1H\n",
      "N                                                NUMERO            NUMERO\n",
      "N                                                   NSE               NSE\n",
      "N                                                CIUDAD            CIUDAD\n",
      "N                                          PON_CIUDADES      PON_CIUDADES\n",
      "N                                           TIPO_ENTREV       TIPO_ENTREV\n",
      "N                                      LOCALIDAD_COMUNA  LOCALIDAD_COMUNA\n",
      "N                                                BARRIO            BARRIO\n",
      "N                                          ZONAS. ZONAS             ZONAS\n",
      "N                                            SEXO. SEXO              SEXO\n",
      "N                                                   GPS               GPS\n",
      "N                                                GPS_LA            GPS_LA\n",
      "N                                                GPS_LO            GPS_LO\n",
      "N                                            EDAD. EDAD              EDAD\n",
      "N                                               PON.PON               PON\n",
      "N                                              AÑO. AÑO               AÑO\n",
      "N                      TIPO_TRANSPORTE. TIPO_TRANSPORTE   TIPO_TRANSPORTE\n",
      "N                            F1. Tipo de entrevistad(a)                F1\n",
      "N                   F1A. El jefe de este hogar es _____               F1A\n",
      "N     F2. Actualmente estamos realizando un estudio ...                F2\n",
      "N     F3. Para comenzar me gustaría saber si Usted, ...              F3_1\n",
      "N     F3. Para comenzar me gustaría saber si Usted, ...              F3_2\n",
      "N     F3. Para comenzar me gustaría saber si Usted, ...              F3_3\n",
      "N     F3. Para comenzar me gustaría saber si Usted, ...              F3_4\n",
      "N     F3. Para comenzar me gustaría saber si Usted, ...              F3_5\n",
      "N     F3A_1. Para comenzar me gustaría saber si uste...             F3A_1\n",
      "N     F3A_2. Para comenzar me gustaría saber si uste...             F3A_2\n",
      "N     F3A_3. Para comenzar me gustaría saber si uste...             F3A_3\n",
      "N                        ¿En qué empresa trabaja Usted?                F4\n",
      "N                              ¿Y cuál es su ocupación?                F5\n",
      "...                                                 ...               ...\n",
      "N     PO1. ¿Qué institución contribuye más a reducir...               PO1\n",
      "N     PO2. ¿Qué tipo de acciones de gobierno cree us...               PO2\n",
      "N     PO3. Para que una sociedad sea considerada com...               PO3\n",
      "N     IM4_1. ¿Está usted de acuerdo o en desacuerdo ...             IM4_1\n",
      "N     IM4_2. Usando las opciones de esta tarjeta y p...             IM4_2\n",
      "N     IM4_3. Usando las opciones de esta tarjeta y p...             IM4_3\n",
      "N     IM4_4. Usando las opciones de esta tarjeta y p...             IM4_4\n",
      "N     IM4_5. Usando las opciones de esta tarjeta y p...             IM4_5\n",
      "N     IM4_6. Usando las opciones de esta tarjeta y p...             IM4_6\n",
      "N     O1. ¿Qué tan importante es Venezuela para su v...                O1\n",
      "N     O2_A. Por favor dígame si Ud. Personalmente Ti...              O2_A\n",
      "N     O2_B. Por favor dígame si Ud. Personalmente Ti...              O2_B\n",
      "N     O2_C. Por favor dígame si Ud. Personalmente Ve...              O2_C\n",
      "N     O2_D. Por favor dígame si Ud. Personalmente Ac...              O2_D\n",
      "N     O2_E. Por favor dígame si Ud. Personalmente Ac...              O2_E\n",
      "N     O2_F. Por favor dígame si Ud. Personalmente Se...              O2_F\n",
      "N     O2_G. Por favor dígame si Ud. Personalmente Ac...              O2_G\n",
      "N     O2_H. Por favor dígame si Ud. Personalmente Ti...              O2_H\n",
      "N     O3. ¿Cree Ud. que las relaciones entre los cuc...                O3\n",
      "N     O4. ¿Ud. cree que el contrabando de productos ...                O4\n",
      "NaN                                                 NaN        TOTALP6D_1\n",
      "NaN                                                 NaN        TOTALP6D_2\n",
      "NaN                                                 NaN        TOTALP6D_3\n",
      "NaN                                                 NaN        TOTALP6D_4\n",
      "NaN                                                 NaN        TOTALP6D_5\n",
      "NaN                                                 NaN        TOTALP6D_6\n",
      "NaN                                                 NaN        TOTALP6D_7\n",
      "NaN                                                 NaN        TOTALP6D_8\n",
      "NaN                                                 NaN      TOTALP6D_HOM\n",
      "NaN                                                 NaN      TOTALP6D_MUJ\n",
      "\n",
      "[13151 rows x 2 columns]\n"
     ]
    }
   ],
   "source": [
    "variables = pd.DataFrame.from_csv(\"variables.csv\")\n",
    "print(variables)"
   ]
  },
  {
   "cell_type": "code",
   "execution_count": 11,
   "metadata": {
    "collapsed": false
   },
   "outputs": [
    {
     "name": "stdout",
     "output_type": "stream",
     "text": [
      "                                                  Label Nombre\n",
      "Tipo                                                          \n",
      "N     MG5A. ¿Cuál considera Usted que es el tipo de ...   MG5A\n"
     ]
    },
    {
     "name": "stderr",
     "output_type": "stream",
     "text": [
      "/usr/local/lib/python3.4/site-packages/IPython/kernel/__main__.py:3: SettingWithCopyWarning: \n",
      "A value is trying to be set on a copy of a slice from a DataFrame.\n",
      "Try using .loc[row_indexer,col_indexer] = value instead\n",
      "\n",
      "See the the caveats in the documentation: http://pandas.pydata.org/pandas-docs/stable/indexing.html#indexing-view-versus-copy\n",
      "  app.launch_new_instance()\n"
     ]
    }
   ],
   "source": [
    "for label in variable_names:\n",
    "    variables_filtered = variables[variables['Nombre'] == label + \"_1\"]\n",
    "    variables_filtered[\"Nombre\"] = label\n",
    "    frames = [variables,variables_filtered]\n",
    "    if label == \"MG5A\": print(variables_filtered)\n",
    "    variables = pd.concat(frames)\n",
    "    "
   ]
  },
  {
   "cell_type": "code",
   "execution_count": 17,
   "metadata": {
    "collapsed": false
   },
   "outputs": [],
   "source": [
    "variables.to_csv(\"variables.csv\", index_col=False )"
   ]
  },
  {
   "cell_type": "code",
   "execution_count": 22,
   "metadata": {
    "collapsed": false
   },
   "outputs": [
    {
     "name": "stdout",
     "output_type": "stream",
     "text": [
      "       Variables  id_label                            label\n",
      "320379      MG5A         1                       Recreación\n",
      "320380      MG5A         2                 Trabajo y empleo\n",
      "320381      MG5A         3                      Comunitario\n",
      "320382      MG5A         4                        Doméstico\n",
      "320383      MG5A         5                         En todas\n",
      "320384      MG5A         6  Religioso/ creencias religiosas\n",
      "320385      MG5A         7                     Otro. ¿Cuál?\n",
      "320386      MG5A        89                          Ninguno\n",
      "320387      MG5A        90            No Sabe / No Responde\n",
      "320388      MG5A        92                      No responde\n",
      "320389      MG5A        95                            Todas\n"
     ]
    },
    {
     "name": "stderr",
     "output_type": "stream",
     "text": [
      "/usr/local/lib/python3.4/site-packages/IPython/kernel/__main__.py:4: SettingWithCopyWarning: \n",
      "A value is trying to be set on a copy of a slice from a DataFrame.\n",
      "Try using .loc[row_indexer,col_indexer] = value instead\n",
      "\n",
      "See the the caveats in the documentation: http://pandas.pydata.org/pandas-docs/stable/indexing.html#indexing-view-versus-copy\n"
     ]
    }
   ],
   "source": [
    "respuestas = pd.DataFrame.from_csv(\"respuestas.csv\", index_col=False )\n",
    "for label in variable_names:\n",
    "    respuestas_filtered = respuestas[respuestas['Variables'] == label + \"_1\"]\n",
    "    respuestas_filtered[\"Variables\"] = label\n",
    "    frames = [respuestas,respuestas_filtered]\n",
    "    if label == \"MG5A\": print(respuestas_filtered)\n",
    "    respuestas = pd.concat(frames)"
   ]
  },
  {
   "cell_type": "code",
   "execution_count": 23,
   "metadata": {
    "collapsed": false
   },
   "outputs": [],
   "source": [
    "respuestas.to_csv(\"respuestas.csv\", index_col=False )"
   ]
  },
  {
   "cell_type": "code",
   "execution_count": null,
   "metadata": {
    "collapsed": true
   },
   "outputs": [],
   "source": []
  }
 ],
 "metadata": {
  "kernelspec": {
   "display_name": "Python 3",
   "language": "python",
   "name": "python3"
  },
  "language_info": {
   "codemirror_mode": {
    "name": "ipython",
    "version": 3
   },
   "file_extension": ".py",
   "mimetype": "text/x-python",
   "name": "python",
   "nbconvert_exporter": "python",
   "pygments_lexer": "ipython3",
   "version": "3.4.1"
  }
 },
 "nbformat": 4,
 "nbformat_minor": 0
}
